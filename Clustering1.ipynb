{
  "cells": [
    {
      "cell_type": "code",
      "execution_count": null,
      "id": "19f92b37",
      "metadata": {
        "id": "19f92b37"
      },
      "outputs": [],
      "source": [
        "# Clustering"
      ]
    },
    {
      "cell_type": "code",
      "execution_count": null,
      "id": "3dcc0324",
      "metadata": {
        "id": "3dcc0324"
      },
      "outputs": [],
      "source": [
        "# Imports\n",
        "import pandas as pd\n",
        "import numpy as np\n",
        "from sklearn import cluster\n",
        "import matplotlib.pyplot as plt\n",
        "from sklearn.metrics import pairwise_distances\n",
        "from scipy.cluster import hierarchy\n",
        "%matplotlib inline"
      ]
    },
    {
      "cell_type": "code",
      "execution_count": null,
      "id": "84442acf",
      "metadata": {
        "id": "84442acf",
        "outputId": "e562b780-9db8-48b7-f458-c3df0183c718"
      },
      "outputs": [
        {
          "data": {
            "text/html": [
              "<div>\n",
              "<style scoped>\n",
              "    .dataframe tbody tr th:only-of-type {\n",
              "        vertical-align: middle;\n",
              "    }\n",
              "\n",
              "    .dataframe tbody tr th {\n",
              "        vertical-align: top;\n",
              "    }\n",
              "\n",
              "    .dataframe thead th {\n",
              "        text-align: right;\n",
              "    }\n",
              "</style>\n",
              "<table border=\"1\" class=\"dataframe\">\n",
              "  <thead>\n",
              "    <tr style=\"text-align: right;\">\n",
              "      <th></th>\n",
              "      <th>2</th>\n",
              "      <th>3</th>\n",
              "      <th>4</th>\n",
              "      <th>5</th>\n",
              "      <th>6</th>\n",
              "      <th>7</th>\n",
              "      <th>8</th>\n",
              "      <th>9</th>\n",
              "      <th>10</th>\n",
              "      <th>11</th>\n",
              "      <th>...</th>\n",
              "      <th>22</th>\n",
              "      <th>23</th>\n",
              "      <th>24</th>\n",
              "      <th>25</th>\n",
              "      <th>26</th>\n",
              "      <th>27</th>\n",
              "      <th>28</th>\n",
              "      <th>29</th>\n",
              "      <th>30</th>\n",
              "      <th>31</th>\n",
              "    </tr>\n",
              "  </thead>\n",
              "  <tbody>\n",
              "    <tr>\n",
              "      <th>0</th>\n",
              "      <td>17.99</td>\n",
              "      <td>10.38</td>\n",
              "      <td>122.80</td>\n",
              "      <td>1001.0</td>\n",
              "      <td>0.11840</td>\n",
              "      <td>0.27760</td>\n",
              "      <td>0.3001</td>\n",
              "      <td>0.14710</td>\n",
              "      <td>0.2419</td>\n",
              "      <td>0.07871</td>\n",
              "      <td>...</td>\n",
              "      <td>25.38</td>\n",
              "      <td>17.33</td>\n",
              "      <td>184.60</td>\n",
              "      <td>2019.0</td>\n",
              "      <td>0.1622</td>\n",
              "      <td>0.6656</td>\n",
              "      <td>0.7119</td>\n",
              "      <td>0.2654</td>\n",
              "      <td>0.4601</td>\n",
              "      <td>0.11890</td>\n",
              "    </tr>\n",
              "    <tr>\n",
              "      <th>1</th>\n",
              "      <td>20.57</td>\n",
              "      <td>17.77</td>\n",
              "      <td>132.90</td>\n",
              "      <td>1326.0</td>\n",
              "      <td>0.08474</td>\n",
              "      <td>0.07864</td>\n",
              "      <td>0.0869</td>\n",
              "      <td>0.07017</td>\n",
              "      <td>0.1812</td>\n",
              "      <td>0.05667</td>\n",
              "      <td>...</td>\n",
              "      <td>24.99</td>\n",
              "      <td>23.41</td>\n",
              "      <td>158.80</td>\n",
              "      <td>1956.0</td>\n",
              "      <td>0.1238</td>\n",
              "      <td>0.1866</td>\n",
              "      <td>0.2416</td>\n",
              "      <td>0.1860</td>\n",
              "      <td>0.2750</td>\n",
              "      <td>0.08902</td>\n",
              "    </tr>\n",
              "    <tr>\n",
              "      <th>2</th>\n",
              "      <td>19.69</td>\n",
              "      <td>21.25</td>\n",
              "      <td>130.00</td>\n",
              "      <td>1203.0</td>\n",
              "      <td>0.10960</td>\n",
              "      <td>0.15990</td>\n",
              "      <td>0.1974</td>\n",
              "      <td>0.12790</td>\n",
              "      <td>0.2069</td>\n",
              "      <td>0.05999</td>\n",
              "      <td>...</td>\n",
              "      <td>23.57</td>\n",
              "      <td>25.53</td>\n",
              "      <td>152.50</td>\n",
              "      <td>1709.0</td>\n",
              "      <td>0.1444</td>\n",
              "      <td>0.4245</td>\n",
              "      <td>0.4504</td>\n",
              "      <td>0.2430</td>\n",
              "      <td>0.3613</td>\n",
              "      <td>0.08758</td>\n",
              "    </tr>\n",
              "    <tr>\n",
              "      <th>3</th>\n",
              "      <td>11.42</td>\n",
              "      <td>20.38</td>\n",
              "      <td>77.58</td>\n",
              "      <td>386.1</td>\n",
              "      <td>0.14250</td>\n",
              "      <td>0.28390</td>\n",
              "      <td>0.2414</td>\n",
              "      <td>0.10520</td>\n",
              "      <td>0.2597</td>\n",
              "      <td>0.09744</td>\n",
              "      <td>...</td>\n",
              "      <td>14.91</td>\n",
              "      <td>26.50</td>\n",
              "      <td>98.87</td>\n",
              "      <td>567.7</td>\n",
              "      <td>0.2098</td>\n",
              "      <td>0.8663</td>\n",
              "      <td>0.6869</td>\n",
              "      <td>0.2575</td>\n",
              "      <td>0.6638</td>\n",
              "      <td>0.17300</td>\n",
              "    </tr>\n",
              "    <tr>\n",
              "      <th>4</th>\n",
              "      <td>20.29</td>\n",
              "      <td>14.34</td>\n",
              "      <td>135.10</td>\n",
              "      <td>1297.0</td>\n",
              "      <td>0.10030</td>\n",
              "      <td>0.13280</td>\n",
              "      <td>0.1980</td>\n",
              "      <td>0.10430</td>\n",
              "      <td>0.1809</td>\n",
              "      <td>0.05883</td>\n",
              "      <td>...</td>\n",
              "      <td>22.54</td>\n",
              "      <td>16.67</td>\n",
              "      <td>152.20</td>\n",
              "      <td>1575.0</td>\n",
              "      <td>0.1374</td>\n",
              "      <td>0.2050</td>\n",
              "      <td>0.4000</td>\n",
              "      <td>0.1625</td>\n",
              "      <td>0.2364</td>\n",
              "      <td>0.07678</td>\n",
              "    </tr>\n",
              "  </tbody>\n",
              "</table>\n",
              "<p>5 rows × 30 columns</p>\n",
              "</div>"
            ],
            "text/plain": [
              "      2      3       4       5        6        7       8        9       10  \\\n",
              "0  17.99  10.38  122.80  1001.0  0.11840  0.27760  0.3001  0.14710  0.2419   \n",
              "1  20.57  17.77  132.90  1326.0  0.08474  0.07864  0.0869  0.07017  0.1812   \n",
              "2  19.69  21.25  130.00  1203.0  0.10960  0.15990  0.1974  0.12790  0.2069   \n",
              "3  11.42  20.38   77.58   386.1  0.14250  0.28390  0.2414  0.10520  0.2597   \n",
              "4  20.29  14.34  135.10  1297.0  0.10030  0.13280  0.1980  0.10430  0.1809   \n",
              "\n",
              "        11  ...     22     23      24      25      26      27      28      29  \\\n",
              "0  0.07871  ...  25.38  17.33  184.60  2019.0  0.1622  0.6656  0.7119  0.2654   \n",
              "1  0.05667  ...  24.99  23.41  158.80  1956.0  0.1238  0.1866  0.2416  0.1860   \n",
              "2  0.05999  ...  23.57  25.53  152.50  1709.0  0.1444  0.4245  0.4504  0.2430   \n",
              "3  0.09744  ...  14.91  26.50   98.87   567.7  0.2098  0.8663  0.6869  0.2575   \n",
              "4  0.05883  ...  22.54  16.67  152.20  1575.0  0.1374  0.2050  0.4000  0.1625   \n",
              "\n",
              "       30       31  \n",
              "0  0.4601  0.11890  \n",
              "1  0.2750  0.08902  \n",
              "2  0.3613  0.08758  \n",
              "3  0.6638  0.17300  \n",
              "4  0.2364  0.07678  \n",
              "\n",
              "[5 rows x 30 columns]"
            ]
          },
          "execution_count": 2,
          "metadata": {},
          "output_type": "execute_result"
        }
      ],
      "source": [
        "# Part 1: Downloading the dataset and dropping the labels\n",
        "\n",
        "missing_values = [\" ?\"]\n",
        "label_data = pd.read_csv('http://archive.ics.uci.edu/ml/machine-learning-databases/breast-cancer-wisconsin/wdbc.data',header=None, na_values = missing_values)\n",
        "\n",
        "data = label_data.drop([0, 1], axis=1)\n",
        "\n",
        "data.head()"
      ]
    },
    {
      "cell_type": "code",
      "execution_count": null,
      "id": "e4462d82",
      "metadata": {
        "id": "e4462d82",
        "outputId": "50df7bc2-27ca-490e-8b63-1c3b70f9aec4"
      },
      "outputs": [
        {
          "data": {
            "text/plain": [
              "Text(0, 0.5, 'SSE')"
            ]
          },
          "execution_count": 3,
          "metadata": {},
          "output_type": "execute_result"
        },
        {
          "data": {
            "image/png": "[encoded data removed]",
            "text/plain": [
              "<Figure size 432x288 with 1 Axes>"
            ]
          },
          "metadata": {
            "needs_background": "light"
          },
          "output_type": "display_data"
        }
      ],
      "source": [
        "# Part 1\n",
        "\n",
        "numClusters = [2, 3, 4, 5, 6]\n",
        "SSE = []\n",
        "\n",
        "# Part 1.1: Perform k-means clustering on different datasets (use k = 2, 3,..., 6)\n",
        "for k in numClusters:\n",
        "\n",
        "    # Part 1.2: Calculate the SSE\n",
        "    k_means = cluster.KMeans(n_clusters=k)\n",
        "    k_means.fit(data)\n",
        "    SSE.append(k_means.inertia_)\n",
        "\n",
        "# Part 1.2: Plot sum-of-squared errors (SSE) versus k\n",
        "plt.plot(numClusters, SSE)\n",
        "plt.xlabel('Number of Clusters')\n",
        "plt.ylabel('SSE')"
      ]
    },
    {
      "cell_type": "code",
      "execution_count": null,
      "id": "d782e099",
      "metadata": {
        "id": "d782e099",
        "outputId": "4c334bc0-990b-4487-d8fc-c59f84863af5"
      },
      "outputs": [
        {
          "name": "stdout",
          "output_type": "stream",
          "text": [
            "Based on the \"elbow\" in the plot above, k=4 seems to be the best k-value for this dataset since there are two slight elbows at k=3 and k=4\n"
          ]
        }
      ],
      "source": [
        "# Part 1.3: Find the best k using the elbow approach\n",
        "print('Based on the \"elbow\" in the plot above, k=4 seems to be the best k-value for this dataset since there are two slight elbows at k=3 and k=4')"
      ]
    },
    {
      "cell_type": "code",
      "execution_count": null,
      "id": "e9051b24",
      "metadata": {
        "id": "e9051b24",
        "outputId": "a793527a-0593-4645-f65f-065b2926c5fb"
      },
      "outputs": [
        {
          "name": "stdout",
          "output_type": "stream",
          "text": [
            "For centroid 0 , here are the top-5 closest points:\n",
            "\tPoint 0 : the 513 entry in the dataset, with a euclidean distance of 13.630898870941323 to the centroid\n",
            "\tPoint 1 : the 340 entry in the dataset, with a euclidean distance of 15.601744288227474 to the centroid\n",
            "\tPoint 2 : the 311 entry in the dataset, with a euclidean distance of 21.42052765565678 to the centroid\n",
            "\tPoint 3 : the 448 entry in the dataset, with a euclidean distance of 28.621036756607495 to the centroid\n",
            "\tPoint 4 : the 225 entry in the dataset, with a euclidean distance of 28.95234554716772 to the centroid\n",
            "For centroid 1 , here are the top-5 closest points:\n",
            "\tPoint 0 : the 433 entry in the dataset, with a euclidean distance of 31.572850185705942 to the centroid\n",
            "\tPoint 1 : the 282 entry in the dataset, with a euclidean distance of 36.72934043478467 to the centroid\n",
            "\tPoint 2 : the 85 entry in the dataset, with a euclidean distance of 51.81926477395122 to the centroid\n",
            "\tPoint 3 : the 42 entry in the dataset, with a euclidean distance of 52.1368320937692 to the centroid\n",
            "\tPoint 4 : the 87 entry in the dataset, with a euclidean distance of 54.35263974681644 to the centroid\n",
            "For centroid 2 , here are the top-5 closest points:\n",
            "\tPoint 0 : the 503 entry in the dataset, with a euclidean distance of 52.68707269097794 to the centroid\n",
            "\tPoint 1 : the 339 entry in the dataset, with a euclidean distance of 143.91107267573878 to the centroid\n",
            "\tPoint 2 : the 521 entry in the dataset, with a euclidean distance of 174.80014993489706 to the centroid\n",
            "\tPoint 3 : the 236 entry in the dataset, with a euclidean distance of 191.30099187454212 to the centroid\n",
            "\tPoint 4 : the 82 entry in the dataset, with a euclidean distance of 262.7985099449762 to the centroid\n",
            "For centroid 3 , here are the top-5 closest points:\n",
            "\tPoint 0 : the 304 entry in the dataset, with a euclidean distance of 6.559074190321517 to the centroid\n",
            "\tPoint 1 : the 249 entry in the dataset, with a euclidean distance of 9.206883718057147 to the centroid\n",
            "\tPoint 2 : the 348 entry in the dataset, with a euclidean distance of 12.497019385669802 to the centroid\n",
            "\tPoint 3 : the 515 entry in the dataset, with a euclidean distance of 12.756671677886665 to the centroid\n",
            "\tPoint 4 : the 422 entry in the dataset, with a euclidean distance of 12.954072832633942 to the centroid\n"
          ]
        }
      ],
      "source": [
        "# Part 1.4: Find the centers of clusters and  find the top-5 closest points to the center of each cluster\n",
        "k_means = cluster.KMeans(n_clusters=4)\n",
        "k_means.fit(data)\n",
        "SSE.append(k_means.inertia_)\n",
        "\n",
        "centroids = k_means.cluster_centers_\n",
        "\n",
        "# Finding the distance between each data point and each cluster centroid using Euclidean distance\n",
        "centroid_dist = pairwise_distances(centroids, data.to_numpy(), metric='euclidean')\n",
        "\n",
        "# Using argsort to find the closest points to the centroid\n",
        "for i in range(4):\n",
        "    dist = centroid_dist[i]\n",
        "    closest_points = np.argsort(dist)\n",
        "    sorted_dist = dist[closest_points]\n",
        "\n",
        "    print(\"For centroid\", i, \", here are the top-5 closest points:\")\n",
        "    for i in range(5):\n",
        "        print(\"\\tPoint\", i, \": the\", closest_points[i], \"entry in the dataset, with a euclidean distance of\", sorted_dist[i], \"to the centroid\")\n",
        "\n",
        "\n",
        ""
      ]
    },
    {
      "cell_type": "code",
      "execution_count": null,
      "id": "58fcb49e",
      "metadata": {
        "id": "58fcb49e",
        "outputId": "2da7ff65-74c8-47b0-b6d9-3a160caa2af4"
      },
      "outputs": [
        {
          "data": {
            "image/png": "[encoded data removed]",
            "text/plain": [
              "<Figure size 432x288 with 1 Axes>"
            ]
          },
          "metadata": {
            "needs_background": "light"
          },
          "output_type": "display_data"
        }
      ],
      "source": [
        "# Part 2\n",
        "\n",
        "# Part 2.1: Perform hierarchical clustering (Single Link)\n",
        "single_link = hierarchy.linkage(data.to_numpy(), 'single')\n",
        "dn = hierarchy.dendrogram(single_link, orientation='right', truncate_mode='lastp')"
      ]
    },
    {
      "cell_type": "code",
      "execution_count": null,
      "id": "cf9d932c",
      "metadata": {
        "id": "cf9d932c",
        "outputId": "bd6e3097-1745-4820-a726-dc54548db174"
      },
      "outputs": [
        {
          "data": {
            "image/png": "[encoded data removed]",
            "text/plain": [
              "<Figure size 432x288 with 1 Axes>"
            ]
          },
          "metadata": {
            "needs_background": "light"
          },
          "output_type": "display_data"
        }
      ],
      "source": [
        "# Part 2.2: Perform hierarchical clustering (Complete Link)\n",
        "complete_link = hierarchy.linkage(data.to_numpy(), 'complete')\n",
        "dn = hierarchy.dendrogram(complete_link, orientation='right', truncate_mode='lastp')"
      ]
    },
    {
      "cell_type": "code",
      "execution_count": null,
      "id": "d911f764",
      "metadata": {
        "id": "d911f764",
        "outputId": "8eeb1e5a-ecbf-43b2-fe6f-d9ea6c04e903"
      },
      "outputs": [
        {
          "data": {
            "image/png": "[encoded data removed]",
            "text/plain": [
              "<Figure size 432x288 with 1 Axes>"
            ]
          },
          "metadata": {
            "needs_background": "light"
          },
          "output_type": "display_data"
        }
      ],
      "source": [
        "# Part 2.3: Perform hierarchical clustering (Group Average)\n",
        "group_avg = hierarchy.linkage(data.to_numpy(), 'average')\n",
        "dn = hierarchy.dendrogram(group_avg, orientation='right', truncate_mode='lastp')"
      ]
    },
    {
      "cell_type": "code",
      "execution_count": null,
      "id": "7b536cd0",
      "metadata": {
        "id": "7b536cd0"
      },
      "outputs": [],
      "source": [
        "# Note: All of the dendrograms are truncated for easier interpretation"
      ]
    }
  ],
  "metadata": {
    "kernelspec": {
      "display_name": "Python 3 (ipykernel)",
      "language": "python",
      "name": "python3"
    },
    "language_info": {
      "codemirror_mode": {
        "name": "ipython",
        "version": 3
      },
      "file_extension": ".py",
      "mimetype": "text/x-python",
      "name": "python",
      "nbconvert_exporter": "python",
      "pygments_lexer": "ipython3",
      "version": "3.9.12"
    },
    "colab": {
      "provenance": []
    }
  },
  "nbformat": 4,
  "nbformat_minor": 5
}