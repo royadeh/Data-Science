{
  "cells": [
    {
      "cell_type": "markdown",
      "id": "65357381",
      "metadata": {
        "id": "65357381"
      },
      "source": [
        "# Classification2"
      ]
    },
    {
      "cell_type": "code",
      "execution_count": null,
      "id": "d595ac3c",
      "metadata": {
        "scrolled": true,
        "id": "d595ac3c",
        "outputId": "a123eddf-f645-4998-f5f1-0313c4821923"
      },
      "outputs": [
        {
          "data": {
            "text/html": [
              "<div>\n",
              "<style scoped>\n",
              "    .dataframe tbody tr th:only-of-type {\n",
              "        vertical-align: middle;\n",
              "    }\n",
              "\n",
              "    .dataframe tbody tr th {\n",
              "        vertical-align: top;\n",
              "    }\n",
              "\n",
              "    .dataframe thead th {\n",
              "        text-align: right;\n",
              "    }\n",
              "</style>\n",
              "<table border=\"1\" class=\"dataframe\">\n",
              "  <thead>\n",
              "    <tr style=\"text-align: right;\">\n",
              "      <th></th>\n",
              "      <th>col1</th>\n",
              "      <th>col2</th>\n",
              "      <th>col3</th>\n",
              "      <th>col4</th>\n",
              "      <th>col5</th>\n",
              "      <th>col6</th>\n",
              "      <th>col7</th>\n",
              "      <th>col8</th>\n",
              "      <th>col9</th>\n",
              "      <th>col10</th>\n",
              "      <th>...</th>\n",
              "      <th>col19</th>\n",
              "      <th>col20</th>\n",
              "      <th>col21</th>\n",
              "      <th>col22</th>\n",
              "      <th>col23</th>\n",
              "      <th>col24</th>\n",
              "      <th>col25</th>\n",
              "      <th>col26</th>\n",
              "      <th>col27</th>\n",
              "      <th>Class</th>\n",
              "    </tr>\n",
              "  </thead>\n",
              "  <tbody>\n",
              "    <tr>\n",
              "      <th>0</th>\n",
              "      <td>1</td>\n",
              "      <td>6</td>\n",
              "      <td>4</td>\n",
              "      <td>12</td>\n",
              "      <td>5</td>\n",
              "      <td>5</td>\n",
              "      <td>3</td>\n",
              "      <td>4</td>\n",
              "      <td>1</td>\n",
              "      <td>67</td>\n",
              "      <td>...</td>\n",
              "      <td>0</td>\n",
              "      <td>0</td>\n",
              "      <td>1</td>\n",
              "      <td>0</td>\n",
              "      <td>0</td>\n",
              "      <td>1</td>\n",
              "      <td>0</td>\n",
              "      <td>0</td>\n",
              "      <td>1</td>\n",
              "      <td>1</td>\n",
              "    </tr>\n",
              "    <tr>\n",
              "      <th>1</th>\n",
              "      <td>2</td>\n",
              "      <td>48</td>\n",
              "      <td>2</td>\n",
              "      <td>60</td>\n",
              "      <td>1</td>\n",
              "      <td>3</td>\n",
              "      <td>2</td>\n",
              "      <td>2</td>\n",
              "      <td>1</td>\n",
              "      <td>22</td>\n",
              "      <td>...</td>\n",
              "      <td>0</td>\n",
              "      <td>0</td>\n",
              "      <td>1</td>\n",
              "      <td>0</td>\n",
              "      <td>0</td>\n",
              "      <td>1</td>\n",
              "      <td>0</td>\n",
              "      <td>0</td>\n",
              "      <td>1</td>\n",
              "      <td>2</td>\n",
              "    </tr>\n",
              "    <tr>\n",
              "      <th>2</th>\n",
              "      <td>4</td>\n",
              "      <td>12</td>\n",
              "      <td>4</td>\n",
              "      <td>21</td>\n",
              "      <td>1</td>\n",
              "      <td>4</td>\n",
              "      <td>3</td>\n",
              "      <td>3</td>\n",
              "      <td>1</td>\n",
              "      <td>49</td>\n",
              "      <td>...</td>\n",
              "      <td>0</td>\n",
              "      <td>0</td>\n",
              "      <td>1</td>\n",
              "      <td>0</td>\n",
              "      <td>0</td>\n",
              "      <td>1</td>\n",
              "      <td>0</td>\n",
              "      <td>1</td>\n",
              "      <td>0</td>\n",
              "      <td>1</td>\n",
              "    </tr>\n",
              "    <tr>\n",
              "      <th>3</th>\n",
              "      <td>1</td>\n",
              "      <td>42</td>\n",
              "      <td>2</td>\n",
              "      <td>79</td>\n",
              "      <td>1</td>\n",
              "      <td>4</td>\n",
              "      <td>3</td>\n",
              "      <td>4</td>\n",
              "      <td>2</td>\n",
              "      <td>45</td>\n",
              "      <td>...</td>\n",
              "      <td>0</td>\n",
              "      <td>0</td>\n",
              "      <td>0</td>\n",
              "      <td>0</td>\n",
              "      <td>0</td>\n",
              "      <td>0</td>\n",
              "      <td>0</td>\n",
              "      <td>0</td>\n",
              "      <td>1</td>\n",
              "      <td>1</td>\n",
              "    </tr>\n",
              "    <tr>\n",
              "      <th>4</th>\n",
              "      <td>1</td>\n",
              "      <td>24</td>\n",
              "      <td>3</td>\n",
              "      <td>49</td>\n",
              "      <td>1</td>\n",
              "      <td>3</td>\n",
              "      <td>3</td>\n",
              "      <td>4</td>\n",
              "      <td>4</td>\n",
              "      <td>53</td>\n",
              "      <td>...</td>\n",
              "      <td>1</td>\n",
              "      <td>0</td>\n",
              "      <td>1</td>\n",
              "      <td>0</td>\n",
              "      <td>0</td>\n",
              "      <td>0</td>\n",
              "      <td>0</td>\n",
              "      <td>0</td>\n",
              "      <td>1</td>\n",
              "      <td>2</td>\n",
              "    </tr>\n",
              "  </tbody>\n",
              "</table>\n",
              "<p>5 rows × 25 columns</p>\n",
              "</div>"
            ],
            "text/plain": [
              "   col1  col2  col3  col4  col5  col6  col7  col8  col9  col10  ...  col19  \\\n",
              "0     1     6     4    12     5     5     3     4     1     67  ...      0   \n",
              "1     2    48     2    60     1     3     2     2     1     22  ...      0   \n",
              "2     4    12     4    21     1     4     3     3     1     49  ...      0   \n",
              "3     1    42     2    79     1     4     3     4     2     45  ...      0   \n",
              "4     1    24     3    49     1     3     3     4     4     53  ...      1   \n",
              "\n",
              "   col20  col21  col22  col23  col24  col25  col26  col27  Class  \n",
              "0      0      1      0      0      1      0      0      1      1  \n",
              "1      0      1      0      0      1      0      0      1      2  \n",
              "2      0      1      0      0      1      0      1      0      1  \n",
              "3      0      0      0      0      0      0      0      1      1  \n",
              "4      0      1      0      0      0      0      0      1      2  \n",
              "\n",
              "[5 rows x 25 columns]"
            ]
          },
          "execution_count": 1,
          "metadata": {},
          "output_type": "execute_result"
        }
      ],
      "source": [
        "import pandas as pd\n",
        "import numpy as np\n",
        "\n",
        "data = pd.read_csv('german.data-numeric',sep ='\\s+',header=None)\n",
        "data.columns = ['col1','col2','col3','col4','col5','col6','col7','col8','col9','col10','col14','col15','col16','col17','col18','col19','col20','col21','col22','col23','col24','col25','col26','col27','Class']\n",
        "data.head()"
      ]
    },
    {
      "cell_type": "code",
      "execution_count": null,
      "id": "f20e4410",
      "metadata": {
        "id": "f20e4410"
      },
      "outputs": [],
      "source": [
        "from sklearn import preprocessing\n",
        "\n",
        "new_data = data.drop(['Class'], axis=1).values\n",
        "min_max_scaler = preprocessing.MinMaxScaler()\n",
        "data_scaled = min_max_scaler.fit_transform(new_data)\n",
        "new_data_scaled = pd.DataFrame(data_scaled)\n",
        "new_data_scaled.columns = ['col1','col2','col3','col4','col5','col6','col7','col8','col9','col10','col14','col15','col16','col17','col18','col19','col20','col21','col22','col23','col24','col25','col26','col27']\n",
        "final_data_1 = pd.concat([new_data_scaled,data['Class']],axis=1)"
      ]
    },
    {
      "cell_type": "code",
      "execution_count": null,
      "id": "1eb579b4",
      "metadata": {
        "id": "1eb579b4",
        "outputId": "eb3f7f42-b8b4-4152-f7cd-40fdd04185b6"
      },
      "outputs": [
        {
          "data": {
            "text/html": [
              "<div>\n",
              "<style scoped>\n",
              "    .dataframe tbody tr th:only-of-type {\n",
              "        vertical-align: middle;\n",
              "    }\n",
              "\n",
              "    .dataframe tbody tr th {\n",
              "        vertical-align: top;\n",
              "    }\n",
              "\n",
              "    .dataframe thead th {\n",
              "        text-align: right;\n",
              "    }\n",
              "</style>\n",
              "<table border=\"1\" class=\"dataframe\">\n",
              "  <thead>\n",
              "    <tr style=\"text-align: right;\">\n",
              "      <th></th>\n",
              "      <th>col1</th>\n",
              "      <th>col2</th>\n",
              "      <th>col3</th>\n",
              "      <th>col4</th>\n",
              "      <th>col5</th>\n",
              "      <th>col6</th>\n",
              "      <th>col7</th>\n",
              "      <th>col8</th>\n",
              "      <th>col9</th>\n",
              "      <th>col10</th>\n",
              "      <th>...</th>\n",
              "      <th>col19</th>\n",
              "      <th>col20</th>\n",
              "      <th>col21</th>\n",
              "      <th>col22</th>\n",
              "      <th>col23</th>\n",
              "      <th>col24</th>\n",
              "      <th>col25</th>\n",
              "      <th>col26</th>\n",
              "      <th>col27</th>\n",
              "      <th>Class</th>\n",
              "    </tr>\n",
              "  </thead>\n",
              "  <tbody>\n",
              "    <tr>\n",
              "      <th>0</th>\n",
              "      <td>0.000000</td>\n",
              "      <td>0.029412</td>\n",
              "      <td>1.00</td>\n",
              "      <td>0.054945</td>\n",
              "      <td>1.0</td>\n",
              "      <td>1.00</td>\n",
              "      <td>0.666667</td>\n",
              "      <td>1.000000</td>\n",
              "      <td>0.000000</td>\n",
              "      <td>0.857143</td>\n",
              "      <td>...</td>\n",
              "      <td>0.0</td>\n",
              "      <td>0.0</td>\n",
              "      <td>1.0</td>\n",
              "      <td>0.0</td>\n",
              "      <td>0.0</td>\n",
              "      <td>1.0</td>\n",
              "      <td>0.0</td>\n",
              "      <td>0.0</td>\n",
              "      <td>1.0</td>\n",
              "      <td>1</td>\n",
              "    </tr>\n",
              "    <tr>\n",
              "      <th>1</th>\n",
              "      <td>0.333333</td>\n",
              "      <td>0.647059</td>\n",
              "      <td>0.50</td>\n",
              "      <td>0.318681</td>\n",
              "      <td>0.0</td>\n",
              "      <td>0.50</td>\n",
              "      <td>0.333333</td>\n",
              "      <td>0.333333</td>\n",
              "      <td>0.000000</td>\n",
              "      <td>0.053571</td>\n",
              "      <td>...</td>\n",
              "      <td>0.0</td>\n",
              "      <td>0.0</td>\n",
              "      <td>1.0</td>\n",
              "      <td>0.0</td>\n",
              "      <td>0.0</td>\n",
              "      <td>1.0</td>\n",
              "      <td>0.0</td>\n",
              "      <td>0.0</td>\n",
              "      <td>1.0</td>\n",
              "      <td>2</td>\n",
              "    </tr>\n",
              "    <tr>\n",
              "      <th>2</th>\n",
              "      <td>1.000000</td>\n",
              "      <td>0.117647</td>\n",
              "      <td>1.00</td>\n",
              "      <td>0.104396</td>\n",
              "      <td>0.0</td>\n",
              "      <td>0.75</td>\n",
              "      <td>0.666667</td>\n",
              "      <td>0.666667</td>\n",
              "      <td>0.000000</td>\n",
              "      <td>0.535714</td>\n",
              "      <td>...</td>\n",
              "      <td>0.0</td>\n",
              "      <td>0.0</td>\n",
              "      <td>1.0</td>\n",
              "      <td>0.0</td>\n",
              "      <td>0.0</td>\n",
              "      <td>1.0</td>\n",
              "      <td>0.0</td>\n",
              "      <td>1.0</td>\n",
              "      <td>0.0</td>\n",
              "      <td>1</td>\n",
              "    </tr>\n",
              "    <tr>\n",
              "      <th>3</th>\n",
              "      <td>0.000000</td>\n",
              "      <td>0.558824</td>\n",
              "      <td>0.50</td>\n",
              "      <td>0.423077</td>\n",
              "      <td>0.0</td>\n",
              "      <td>0.75</td>\n",
              "      <td>0.666667</td>\n",
              "      <td>1.000000</td>\n",
              "      <td>0.333333</td>\n",
              "      <td>0.464286</td>\n",
              "      <td>...</td>\n",
              "      <td>0.0</td>\n",
              "      <td>0.0</td>\n",
              "      <td>0.0</td>\n",
              "      <td>0.0</td>\n",
              "      <td>0.0</td>\n",
              "      <td>0.0</td>\n",
              "      <td>0.0</td>\n",
              "      <td>0.0</td>\n",
              "      <td>1.0</td>\n",
              "      <td>1</td>\n",
              "    </tr>\n",
              "    <tr>\n",
              "      <th>4</th>\n",
              "      <td>0.000000</td>\n",
              "      <td>0.294118</td>\n",
              "      <td>0.75</td>\n",
              "      <td>0.258242</td>\n",
              "      <td>0.0</td>\n",
              "      <td>0.50</td>\n",
              "      <td>0.666667</td>\n",
              "      <td>1.000000</td>\n",
              "      <td>1.000000</td>\n",
              "      <td>0.607143</td>\n",
              "      <td>...</td>\n",
              "      <td>1.0</td>\n",
              "      <td>0.0</td>\n",
              "      <td>1.0</td>\n",
              "      <td>0.0</td>\n",
              "      <td>0.0</td>\n",
              "      <td>0.0</td>\n",
              "      <td>0.0</td>\n",
              "      <td>0.0</td>\n",
              "      <td>1.0</td>\n",
              "      <td>2</td>\n",
              "    </tr>\n",
              "  </tbody>\n",
              "</table>\n",
              "<p>5 rows × 25 columns</p>\n",
              "</div>"
            ],
            "text/plain": [
              "       col1      col2  col3      col4  col5  col6      col7      col8  \\\n",
              "0  0.000000  0.029412  1.00  0.054945   1.0  1.00  0.666667  1.000000   \n",
              "1  0.333333  0.647059  0.50  0.318681   0.0  0.50  0.333333  0.333333   \n",
              "2  1.000000  0.117647  1.00  0.104396   0.0  0.75  0.666667  0.666667   \n",
              "3  0.000000  0.558824  0.50  0.423077   0.0  0.75  0.666667  1.000000   \n",
              "4  0.000000  0.294118  0.75  0.258242   0.0  0.50  0.666667  1.000000   \n",
              "\n",
              "       col9     col10  ...  col19  col20  col21  col22  col23  col24  col25  \\\n",
              "0  0.000000  0.857143  ...    0.0    0.0    1.0    0.0    0.0    1.0    0.0   \n",
              "1  0.000000  0.053571  ...    0.0    0.0    1.0    0.0    0.0    1.0    0.0   \n",
              "2  0.000000  0.535714  ...    0.0    0.0    1.0    0.0    0.0    1.0    0.0   \n",
              "3  0.333333  0.464286  ...    0.0    0.0    0.0    0.0    0.0    0.0    0.0   \n",
              "4  1.000000  0.607143  ...    1.0    0.0    1.0    0.0    0.0    0.0    0.0   \n",
              "\n",
              "   col26  col27  Class  \n",
              "0    0.0    1.0      1  \n",
              "1    0.0    1.0      2  \n",
              "2    1.0    0.0      1  \n",
              "3    0.0    1.0      1  \n",
              "4    0.0    1.0      2  \n",
              "\n",
              "[5 rows x 25 columns]"
            ]
          },
          "execution_count": 3,
          "metadata": {},
          "output_type": "execute_result"
        }
      ],
      "source": [
        "final_data_1.head()"
      ]
    },
    {
      "cell_type": "code",
      "execution_count": null,
      "id": "854eec4d",
      "metadata": {
        "id": "854eec4d"
      },
      "outputs": [],
      "source": [
        "from sklearn.metrics import f1_score\n",
        "import matplotlib.pyplot as plt\n",
        "from sklearn.model_selection import train_test_split\n",
        "from sklearn.neighbors import KNeighborsClassifier\n",
        "from sklearn import tree\n",
        "import time\n",
        "\n",
        "X = final_data_1.drop(['Class'],axis=1)\n",
        "Y = final_data_1['Class']"
      ]
    },
    {
      "cell_type": "code",
      "execution_count": null,
      "id": "4e7eb6eb",
      "metadata": {
        "id": "4e7eb6eb"
      },
      "outputs": [],
      "source": [
        "def knn_part_1():\n",
        "    result = []\n",
        "\n",
        "    for i in range(5):\n",
        "        start = time.time()\n",
        "        X_train, X_test, Y_train, Y_test = train_test_split(X, Y, test_size=0.1, random_state=i)\n",
        "        clf = KNeighborsClassifier(metric='minkowski', p=2)\n",
        "        clf.fit(X_train, Y_train)\n",
        "        Y_predTest = clf.predict(X_test)\n",
        "\n",
        "        test_f1 = (f1_score(Y_test, Y_predTest, average='weighted'))\n",
        "        time_took = time.time() - start\n",
        "        result.append([test_f1,time_took])\n",
        "\n",
        "    knn_result = pd.DataFrame(result, columns =['F-Measure','Time'])\n",
        "    return knn_result"
      ]
    },
    {
      "cell_type": "code",
      "execution_count": null,
      "id": "15bcde26",
      "metadata": {
        "id": "15bcde26"
      },
      "outputs": [],
      "source": [
        "from sklearn import preprocessing\n",
        "\n",
        "new_data = data.drop(['Class'], axis=1).values\n",
        "min_max_scaler = preprocessing.MinMaxScaler()\n",
        "data_scaled = min_max_scaler.fit_transform(new_data)\n",
        "new_data_scaled = pd.DataFrame(data_scaled)\n",
        "new_data_scaled.columns = ['col1','col2','col3','col4','col5','col6','col7','col8','col9','col10','col14','col15','col16','col17','col18','col19','col20','col21','col22','col23','col24','col25','col26','col27']\n",
        "\n",
        "final_data_1 = pd.concat([new_data_scaled,data['Class']],axis=1)"
      ]
    },
    {
      "cell_type": "code",
      "execution_count": null,
      "id": "58ddfd52",
      "metadata": {
        "id": "58ddfd52"
      },
      "outputs": [],
      "source": [
        "def decision_tree_part_1():\n",
        "    result = []\n",
        "\n",
        "    for i in range(5):\n",
        "        start = time.time()\n",
        "        X_train, X_test, Y_train, Y_test = train_test_split(X, Y, test_size=0.1, random_state=i)\n",
        "        clf = tree.DecisionTreeClassifier()\n",
        "        clf.fit(X_train, Y_train)\n",
        "        Y_predTest = clf.predict(X_test)\n",
        "\n",
        "        time_took = time.time() - start\n",
        "        test_f1= (f1_score(Y_test, Y_predTest, average='weighted'))\n",
        "        result.append([test_f1,time_took])\n",
        "\n",
        "    decision_tree_result = pd.DataFrame(result, columns =['F-Measure','Time'])\n",
        "    return decision_tree_result"
      ]
    },
    {
      "cell_type": "markdown",
      "id": "aca08c05",
      "metadata": {
        "id": "aca08c05"
      },
      "source": [
        "# Part 1"
      ]
    },
    {
      "cell_type": "code",
      "execution_count": null,
      "id": "5b1d0ce5",
      "metadata": {
        "id": "5b1d0ce5"
      },
      "outputs": [],
      "source": [
        "knn = knn_part_1()\n",
        "decision = decision_tree_part_1()"
      ]
    },
    {
      "cell_type": "code",
      "execution_count": null,
      "id": "92ed5afb",
      "metadata": {
        "id": "92ed5afb",
        "outputId": "52e9c322-32a7-4a36-9723-aba41fa3adc4"
      },
      "outputs": [
        {
          "data": {
            "text/plain": [
              "F-Measure    0.687940\n",
              "Time         0.009725\n",
              "dtype: float64"
            ]
          },
          "execution_count": 9,
          "metadata": {},
          "output_type": "execute_result"
        }
      ],
      "source": [
        "knn.mean()"
      ]
    },
    {
      "cell_type": "code",
      "execution_count": null,
      "id": "64a66943",
      "metadata": {
        "id": "64a66943",
        "outputId": "ec32a381-92d6-4261-8b53-de1b9cdbb1a9"
      },
      "outputs": [
        {
          "data": {
            "text/plain": [
              "<AxesSubplot: >"
            ]
          },
          "execution_count": 10,
          "metadata": {},
          "output_type": "execute_result"
        },
        {
          "data": {
            "image/png": "[encoded data removed]",
            "text/plain": [
              "<Figure size 432x288 with 1 Axes>"
            ]
          },
          "metadata": {
            "needs_background": "light"
          },
          "output_type": "display_data"
        }
      ],
      "source": [
        "knn.mean().plot(kind='bar')"
      ]
    },
    {
      "cell_type": "code",
      "execution_count": null,
      "id": "94991383",
      "metadata": {
        "id": "94991383",
        "outputId": "62053776-6be7-4d73-b48c-afc37332ee16"
      },
      "outputs": [
        {
          "data": {
            "text/plain": [
              "F-Measure    0.657100\n",
              "Time         0.005391\n",
              "dtype: float64"
            ]
          },
          "execution_count": 11,
          "metadata": {},
          "output_type": "execute_result"
        }
      ],
      "source": [
        "decision.mean()\n"
      ]
    },
    {
      "cell_type": "code",
      "execution_count": null,
      "id": "5a2f6c6a",
      "metadata": {
        "id": "5a2f6c6a",
        "outputId": "5caa3243-3891-48f0-e56b-bdc09a278bca"
      },
      "outputs": [
        {
          "data": {
            "text/plain": [
              "<AxesSubplot: >"
            ]
          },
          "execution_count": 12,
          "metadata": {},
          "output_type": "execute_result"
        },
        {
          "data": {
            "image/png": "[encoded data removed]",
            "text/plain": [
              "<Figure size 432x288 with 1 Axes>"
            ]
          },
          "metadata": {
            "needs_background": "light"
          },
          "output_type": "display_data"
        }
      ],
      "source": [
        "decision.mean().plot(kind='bar')"
      ]
    },
    {
      "cell_type": "code",
      "execution_count": null,
      "id": "4cd3f190",
      "metadata": {
        "id": "4cd3f190"
      },
      "outputs": [],
      "source": [
        "compare_f1 = [knn[\"F-Measure\"], decision[\"F-Measure\"]]\n",
        "compare_time = [knn[\"Time\"], decision[\"Time\"]]\n",
        "headers = [\"KNN\", \"Decision Tree Classifier\"]\n",
        "\n",
        "comparison_f1 = pd.concat(compare_f1, axis=1, keys=headers)\n",
        "comparison_time = pd.concat(compare_time, axis=1, keys=headers)"
      ]
    },
    {
      "cell_type": "code",
      "execution_count": null,
      "id": "b1c0f942",
      "metadata": {
        "id": "b1c0f942",
        "outputId": "f0df8182-20bb-4b17-b1b6-4636718fb977"
      },
      "outputs": [
        {
          "data": {
            "text/plain": [
              "<AxesSubplot: title={'center': 'F1 Accuracy of KNN vs Decision Tree Classifier'}>"
            ]
          },
          "execution_count": 14,
          "metadata": {},
          "output_type": "execute_result"
        },
        {
          "data": {
            "image/png": "[encoded data removed]",
            "text/plain": [
              "<Figure size 432x288 with 1 Axes>"
            ]
          },
          "metadata": {
            "needs_background": "light"
          },
          "output_type": "display_data"
        }
      ],
      "source": [
        "comparison_f1.plot(title='F1 Accuracy of KNN vs Decision Tree Classifier')"
      ]
    },
    {
      "cell_type": "code",
      "execution_count": null,
      "id": "da09652e",
      "metadata": {
        "id": "da09652e",
        "outputId": "6adbcace-cd12-4005-9bd8-3b2d1b6a6a8d"
      },
      "outputs": [
        {
          "data": {
            "text/plain": [
              "<AxesSubplot: title={'center': 'Time of KNN vs Decision Tree Classifier'}>"
            ]
          },
          "execution_count": 15,
          "metadata": {},
          "output_type": "execute_result"
        },
        {
          "data": {
            "image/png": "[encoded data removed]",
            "text/plain": [
              "<Figure size 432x288 with 1 Axes>"
            ]
          },
          "metadata": {
            "needs_background": "light"
          },
          "output_type": "display_data"
        }
      ],
      "source": [
        "comparison_time.plot(title='Time of KNN vs Decision Tree Classifier')"
      ]
    },
    {
      "cell_type": "markdown",
      "id": "9fb29424",
      "metadata": {
        "id": "9fb29424"
      },
      "source": [
        "# Part 2"
      ]
    },
    {
      "cell_type": "code",
      "execution_count": null,
      "id": "fc591990",
      "metadata": {
        "id": "fc591990",
        "outputId": "4459dfe6-b755-482c-9584-19f1f3cf5335"
      },
      "outputs": [
        {
          "data": {
            "image/png": "[encoded data removed]",
            "text/plain": [
              "<Figure size 432x288 with 1 Axes>"
            ]
          },
          "metadata": {
            "needs_background": "light"
          },
          "output_type": "display_data"
        }
      ],
      "source": [
        "#Added validAcc as per tutorial\n",
        "X_rem, X_test, Y_rem, Y_test = train_test_split(X,Y,test_size=0.1)\n",
        "X_train, X_valid, Y_train, Y_valid = train_test_split(X_rem, Y_rem, test_size=0.1)\n",
        "\n",
        "numNeighbors = [1,2,3,4,5]\n",
        "trainAcc = []\n",
        "testAcc = []\n",
        "validAcc = []\n",
        "\n",
        "for k in numNeighbors:\n",
        "    clf = KNeighborsClassifier(n_neighbors=k, metric='minkowski', p=2)\n",
        "    clf.fit(X_train, Y_train)\n",
        "\n",
        "    Y_predTrain = clf.predict(X_train)\n",
        "    Y_predTest = clf.predict(X_test)\n",
        "    Y_predVal = clf.predict(X_valid)\n",
        "\n",
        "    trainAcc.append(f1_score(Y_train, Y_predTrain, average='weighted'))\n",
        "    validAcc.append(f1_score(Y_valid, Y_predVal, average='weighted'))\n",
        "    testAcc.append(f1_score(Y_test, Y_predTest, average='weighted'))\n",
        "\n",
        "plt.plot(numNeighbors, trainAcc, 'ro-', numNeighbors, testAcc,'bv--',numNeighbors, validAcc,'gv--')\n",
        "plt.legend(['Training Accuracy','Test Accuracy'])\n",
        "plt.xlabel('Number of neighbors')\n",
        "plt.ylabel('Accuracy')\n",
        "\n",
        "knnValidationAccuracy = pd.DataFrame(validAcc, columns=['Validation Accuracy'])"
      ]
    },
    {
      "cell_type": "markdown",
      "id": "16f17ff9",
      "metadata": {
        "id": "16f17ff9"
      },
      "source": [
        "In this graph we can see when k is 4 is the most accurate depth as per validation accuracy. (Also shown in the table below)."
      ]
    },
    {
      "cell_type": "code",
      "execution_count": null,
      "id": "17932663",
      "metadata": {
        "id": "17932663",
        "outputId": "20acb692-3a38-4260-b184-b6e2120c868d"
      },
      "outputs": [
        {
          "data": {
            "text/html": [
              "<div>\n",
              "<style scoped>\n",
              "    .dataframe tbody tr th:only-of-type {\n",
              "        vertical-align: middle;\n",
              "    }\n",
              "\n",
              "    .dataframe tbody tr th {\n",
              "        vertical-align: top;\n",
              "    }\n",
              "\n",
              "    .dataframe thead th {\n",
              "        text-align: right;\n",
              "    }\n",
              "</style>\n",
              "<table border=\"1\" class=\"dataframe\">\n",
              "  <thead>\n",
              "    <tr style=\"text-align: right;\">\n",
              "      <th></th>\n",
              "      <th>Validation Accuracy</th>\n",
              "    </tr>\n",
              "  </thead>\n",
              "  <tbody>\n",
              "    <tr>\n",
              "      <th>0</th>\n",
              "      <td>0.646906</td>\n",
              "    </tr>\n",
              "    <tr>\n",
              "      <th>1</th>\n",
              "      <td>0.618862</td>\n",
              "    </tr>\n",
              "    <tr>\n",
              "      <th>2</th>\n",
              "      <td>0.738809</td>\n",
              "    </tr>\n",
              "    <tr>\n",
              "      <th>3</th>\n",
              "      <td>0.684748</td>\n",
              "    </tr>\n",
              "    <tr>\n",
              "      <th>4</th>\n",
              "      <td>0.714559</td>\n",
              "    </tr>\n",
              "  </tbody>\n",
              "</table>\n",
              "</div>"
            ],
            "text/plain": [
              "   Validation Accuracy\n",
              "0             0.646906\n",
              "1             0.618862\n",
              "2             0.738809\n",
              "3             0.684748\n",
              "4             0.714559"
            ]
          },
          "execution_count": 17,
          "metadata": {},
          "output_type": "execute_result"
        }
      ],
      "source": [
        "knnValidationAccuracy"
      ]
    },
    {
      "cell_type": "code",
      "execution_count": null,
      "id": "0dde7a55",
      "metadata": {
        "id": "0dde7a55",
        "outputId": "c1ec7adc-c4b1-4313-ba90-90d0c6ebbe47"
      },
      "outputs": [
        {
          "data": {
            "image/png": "[encoded data removed]",
            "text/plain": [
              "<Figure size 432x288 with 1 Axes>"
            ]
          },
          "metadata": {
            "needs_background": "light"
          },
          "output_type": "display_data"
        }
      ],
      "source": [
        "maxdepths = [3,4,5,6,7,8,9,10]\n",
        "\n",
        "trainAcc2 = np.zeros(len(maxdepths))\n",
        "testAcc2 = np.zeros(len(maxdepths))\n",
        "validAcc2 = np.zeros(len(maxdepths))\n",
        "\n",
        "index = 0\n",
        "for depth in maxdepths:\n",
        "    clf2 = tree.DecisionTreeClassifier(max_depth=depth)\n",
        "    clf2 = clf2.fit(X_train, Y_train)\n",
        "\n",
        "    Y_predVal2 = clf2.predict(X_valid)\n",
        "    Y_predTrain2 = clf2.predict(X_train)\n",
        "    Y_predTest2 = clf2.predict(X_test)\n",
        "\n",
        "    trainAcc2[index] = (f1_score(Y_train, Y_predTrain2, average='weighted'))\n",
        "    testAcc2[index] = (f1_score(Y_test, Y_predTest2, average='weighted'))\n",
        "    validAcc2[index] = (f1_score(Y_valid, Y_predVal2, average='weighted'))\n",
        "\n",
        "    index += 1\n",
        "\n",
        "plt.plot(maxdepths,trainAcc2,'ro-',maxdepths,testAcc2,'bv--',maxdepths, validAcc2,'gv--')\n",
        "plt.legend(['Training Accuracy','Test Accuracy'])\n",
        "plt.xlabel('Max depth')\n",
        "plt.ylabel('Accuracy')\n",
        "\n",
        "decisionValidationAccuracy = pd.DataFrame(validAcc2, columns=['Validation Accuracy'])\n"
      ]
    },
    {
      "cell_type": "markdown",
      "id": "5f155756",
      "metadata": {
        "id": "5f155756"
      },
      "source": [
        "In this graph we can see when the dept value is 9TH it is the most accurate based on the validation accuracy"
      ]
    },
    {
      "cell_type": "code",
      "execution_count": null,
      "id": "155e0bc3",
      "metadata": {
        "id": "155e0bc3",
        "outputId": "e110014e-dd5a-40ea-b5ec-6ae8ad1d176c"
      },
      "outputs": [
        {
          "data": {
            "text/html": [
              "<div>\n",
              "<style scoped>\n",
              "    .dataframe tbody tr th:only-of-type {\n",
              "        vertical-align: middle;\n",
              "    }\n",
              "\n",
              "    .dataframe tbody tr th {\n",
              "        vertical-align: top;\n",
              "    }\n",
              "\n",
              "    .dataframe thead th {\n",
              "        text-align: right;\n",
              "    }\n",
              "</style>\n",
              "<table border=\"1\" class=\"dataframe\">\n",
              "  <thead>\n",
              "    <tr style=\"text-align: right;\">\n",
              "      <th></th>\n",
              "      <th>Validation Accuracy</th>\n",
              "    </tr>\n",
              "  </thead>\n",
              "  <tbody>\n",
              "    <tr>\n",
              "      <th>0</th>\n",
              "      <td>0.743613</td>\n",
              "    </tr>\n",
              "    <tr>\n",
              "      <th>1</th>\n",
              "      <td>0.782769</td>\n",
              "    </tr>\n",
              "    <tr>\n",
              "      <th>2</th>\n",
              "      <td>0.710359</td>\n",
              "    </tr>\n",
              "    <tr>\n",
              "      <th>3</th>\n",
              "      <td>0.769073</td>\n",
              "    </tr>\n",
              "    <tr>\n",
              "      <th>4</th>\n",
              "      <td>0.732735</td>\n",
              "    </tr>\n",
              "    <tr>\n",
              "      <th>5</th>\n",
              "      <td>0.662085</td>\n",
              "    </tr>\n",
              "    <tr>\n",
              "      <th>6</th>\n",
              "      <td>0.758979</td>\n",
              "    </tr>\n",
              "    <tr>\n",
              "      <th>7</th>\n",
              "      <td>0.695826</td>\n",
              "    </tr>\n",
              "  </tbody>\n",
              "</table>\n",
              "</div>"
            ],
            "text/plain": [
              "   Validation Accuracy\n",
              "0             0.743613\n",
              "1             0.782769\n",
              "2             0.710359\n",
              "3             0.769073\n",
              "4             0.732735\n",
              "5             0.662085\n",
              "6             0.758979\n",
              "7             0.695826"
            ]
          },
          "execution_count": 19,
          "metadata": {},
          "output_type": "execute_result"
        }
      ],
      "source": [
        "decisionValidationAccuracy"
      ]
    },
    {
      "cell_type": "code",
      "execution_count": null,
      "id": "4eb57e8e",
      "metadata": {
        "id": "4eb57e8e",
        "outputId": "32f671bd-e3fb-4115-b70c-3f220a00a188"
      },
      "outputs": [
        {
          "data": {
            "text/html": [
              "<div>\n",
              "<style scoped>\n",
              "    .dataframe tbody tr th:only-of-type {\n",
              "        vertical-align: middle;\n",
              "    }\n",
              "\n",
              "    .dataframe tbody tr th {\n",
              "        vertical-align: top;\n",
              "    }\n",
              "\n",
              "    .dataframe thead th {\n",
              "        text-align: right;\n",
              "    }\n",
              "</style>\n",
              "<table border=\"1\" class=\"dataframe\">\n",
              "  <thead>\n",
              "    <tr style=\"text-align: right;\">\n",
              "      <th></th>\n",
              "      <th>KNN</th>\n",
              "      <th>Decision Tree Classifier</th>\n",
              "    </tr>\n",
              "  </thead>\n",
              "  <tbody>\n",
              "    <tr>\n",
              "      <th>0</th>\n",
              "      <td>0.646906</td>\n",
              "      <td>0.743613</td>\n",
              "    </tr>\n",
              "    <tr>\n",
              "      <th>1</th>\n",
              "      <td>0.618862</td>\n",
              "      <td>0.782769</td>\n",
              "    </tr>\n",
              "    <tr>\n",
              "      <th>2</th>\n",
              "      <td>0.738809</td>\n",
              "      <td>0.710359</td>\n",
              "    </tr>\n",
              "    <tr>\n",
              "      <th>3</th>\n",
              "      <td>0.684748</td>\n",
              "      <td>0.769073</td>\n",
              "    </tr>\n",
              "    <tr>\n",
              "      <th>4</th>\n",
              "      <td>0.714559</td>\n",
              "      <td>0.732735</td>\n",
              "    </tr>\n",
              "    <tr>\n",
              "      <th>5</th>\n",
              "      <td>NaN</td>\n",
              "      <td>0.662085</td>\n",
              "    </tr>\n",
              "    <tr>\n",
              "      <th>6</th>\n",
              "      <td>NaN</td>\n",
              "      <td>0.758979</td>\n",
              "    </tr>\n",
              "    <tr>\n",
              "      <th>7</th>\n",
              "      <td>NaN</td>\n",
              "      <td>0.695826</td>\n",
              "    </tr>\n",
              "  </tbody>\n",
              "</table>\n",
              "</div>"
            ],
            "text/plain": [
              "        KNN  Decision Tree Classifier\n",
              "0  0.646906                  0.743613\n",
              "1  0.618862                  0.782769\n",
              "2  0.738809                  0.710359\n",
              "3  0.684748                  0.769073\n",
              "4  0.714559                  0.732735\n",
              "5       NaN                  0.662085\n",
              "6       NaN                  0.758979\n",
              "7       NaN                  0.695826"
            ]
          },
          "execution_count": 20,
          "metadata": {},
          "output_type": "execute_result"
        }
      ],
      "source": [
        "compare = [knnValidationAccuracy['Validation Accuracy'], decisionValidationAccuracy['Validation Accuracy']]\n",
        "headers = [\"KNN\", \"Decision Tree Classifier\"]\n",
        "\n",
        "compare = pd.concat(compare, axis=1, keys=headers)\n",
        "compare"
      ]
    },
    {
      "cell_type": "code",
      "execution_count": null,
      "id": "82818e17",
      "metadata": {
        "id": "82818e17",
        "outputId": "fdb2c841-5cd8-41e5-a1b5-b15c0b688735"
      },
      "outputs": [
        {
          "data": {
            "text/plain": [
              "<AxesSubplot: >"
            ]
          },
          "execution_count": 21,
          "metadata": {},
          "output_type": "execute_result"
        },
        {
          "data": {
            "image/png": "[encoded data removed]",
            "text/plain": [
              "<Figure size 432x288 with 1 Axes>"
            ]
          },
          "metadata": {
            "needs_background": "light"
          },
          "output_type": "display_data"
        }
      ],
      "source": [
        "compare.plot()"
      ]
    },
    {
      "cell_type": "markdown",
      "id": "8ba27418",
      "metadata": {
        "id": "8ba27418"
      },
      "source": [
        "From the following output we can see KNN is less accurate than the desciion tree clasiffy which average around mid 70's comapared to low 70's for KNN."
      ]
    },
    {
      "cell_type": "code",
      "execution_count": null,
      "id": "76204156",
      "metadata": {
        "id": "76204156"
      },
      "outputs": [],
      "source": []
    }
  ],
  "metadata": {
    "kernelspec": {
      "display_name": "Python 3",
      "language": "python",
      "name": "python3"
    },
    "language_info": {
      "codemirror_mode": {
        "name": "ipython",
        "version": 3
      },
      "file_extension": ".py",
      "mimetype": "text/x-python",
      "name": "python",
      "nbconvert_exporter": "python",
      "pygments_lexer": "ipython3",
      "version": "3.8.5"
    },
    "colab": {
      "provenance": []
    }
  },
  "nbformat": 4,
  "nbformat_minor": 5
}
